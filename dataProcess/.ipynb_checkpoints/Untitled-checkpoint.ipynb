{
 "cells": [
  {
   "cell_type": "code",
   "execution_count": 1,
   "metadata": {
    "collapsed": true
   },
   "outputs": [],
   "source": [
    "import pandas as pd\n",
    "import json\n",
    "import os"
   ]
  },
  {
   "cell_type": "code",
   "execution_count": 4,
   "metadata": {
    "collapsed": true
   },
   "outputs": [],
   "source": []
  },
  {
   "cell_type": "code",
   "execution_count": 27,
   "metadata": {},
   "outputs": [],
   "source": []
  },
  {
   "cell_type": "code",
   "execution_count": 83,
   "metadata": {},
   "outputs": [],
   "source": [
    "def parseUsers(projects):\n",
    "    '''\n",
    "    Parses the users from the projects provided in a dataframe.\n",
    "    \n",
    "    Parameters\n",
    "    ----------\n",
    "    projects : pandas.DataFrame\n",
    "        Table of projects. Must have columns 'people' and a 'slug'.\n",
    "    '''\n",
    "    out = []\n",
    "    for slug,people in projects[['slug','people']].values:\n",
    "        if len(people)!=0:\n",
    "            for person in people:\n",
    "                if '@media.mit.edu' in person: # Keep only media lab users\n",
    "                    out.append((slug,person.replace('@media.mit.edu','').strip()))\n",
    "    return pd.DataFrame(out,columns=['slug','username'])\n",
    "\n",
    "def loadProjects(in_path='../Data/'):\n",
    "    '''\n",
    "    Loads projects into a DataFrame from a given path. It takes care of putting user data into first normal form.\n",
    "    \n",
    "    Parameters\n",
    "    ----------\n",
    "    in_path : str (optional)\n",
    "        Path of projects-active.json and projects-inactive.json.\n",
    "    '''\n",
    "    fnameActive = 'projects-active.json'\n",
    "    fnameInactive = 'projects-inactive.json'\n",
    "    activeProjects   = pd.read_json(os.path.join(in_path,fnameActive))\n",
    "    inactiveProjects = pd.read_json(os.path.join(in_path,fnameInactive))\n",
    "    activeProjects['is_active'] = True\n",
    "    inactiveProjects['is_active'] = False\n",
    "\n",
    "    activeProjects = pd.merge(parseUsers(activeProjects),activeProjects.drop(['people','groups'],1))\n",
    "    inactiveProjects = pd.merge(parseUsers(inactiveProjects),inactiveProjects.drop(['people','groups'],1))\n",
    "\n",
    "    projects = pd.concat([inactiveProjects,activeProjects])\n",
    "    return projects \n",
    "\n",
    "def generateNework(projects):\n",
    "    '''\n",
    "    Generates network of users connected when they worked together on a project.\n",
    "    \n",
    "    Parameters\n",
    "    ----------\n",
    "    projects : pandas.DataFrame\n",
    "        Table with columns slug and username\n",
    "        \n",
    "    Returns\n",
    "    -------\n",
    "    net : pandas.DataFrame\n",
    "        Table with username_s, username_t, and number of projets.\n",
    "    '''\n",
    "    df = projects[['slug','username']]\n",
    "    net = pd.merge(df.rename(columns={'username':'username_s'}),df.rename(columns={'username':'username_t'}))\n",
    "    net = net[net['username_s']!=net['username_t']]\n",
    "    net = net.groupby(['username_s','username_t']).count().rename(columns={'slug':'n_projects'}).reset_index()\n",
    "    return net\n",
    "\n",
    "def formatNetwork(net):\n",
    "    '''\n",
    "    Formats the network into a dictonary that can be written in a json file.\n",
    "    \n",
    "    Parameters\n",
    "    ----------\n",
    "    net : pandas.DataFrame\n",
    "         Table with username_s,username_t, and n_projects.\n",
    "         \n",
    "    '''\n",
    "    net['username_t*n_projects']=net[['username_t','n_projects']].values.tolist()\n",
    "    return dict(net.groupby('username_s')['username_t*n_projects'].apply(list))"
   ]
  },
  {
   "cell_type": "code",
   "execution_count": 89,
   "metadata": {
    "collapsed": true
   },
   "outputs": [],
   "source": [
    "\n",
    "out_path = '../MLgenerative/includes/'\n",
    "\n"
   ]
  },
  {
   "cell_type": "code",
   "execution_count": 75,
   "metadata": {},
   "outputs": [],
   "source": [
    "projects = loadProjects()"
   ]
  },
  {
   "cell_type": "code",
   "execution_count": 76,
   "metadata": {
    "collapsed": true
   },
   "outputs": [],
   "source": [
    "## Filter projects if needed (by date, for example)\n",
    "\n",
    "drop_list = ['scratch-in-practice','ml-learning-fellows-program','learning-creative-learning'] # 'scratch'\n",
    "\n",
    "projects = projects[~projects['slug'].isin(drop_list)]"
   ]
  },
  {
   "cell_type": "code",
   "execution_count": 77,
   "metadata": {
    "collapsed": true
   },
   "outputs": [],
   "source": [
    "net = generateNework(projects)"
   ]
  },
  {
   "cell_type": "code",
   "execution_count": 82,
   "metadata": {},
   "outputs": [],
   "source": []
  },
  {
   "cell_type": "code",
   "execution_count": 70,
   "metadata": {},
   "outputs": [],
   "source": []
  },
  {
   "cell_type": "code",
   "execution_count": 86,
   "metadata": {},
   "outputs": [],
   "source": [
    "data_out = formatNetwork(net)"
   ]
  },
  {
   "cell_type": "code",
   "execution_count": 90,
   "metadata": {
    "scrolled": false
   },
   "outputs": [],
   "source": [
    "with open(os.path.join(out_path,'project-network.json'), 'w') as fp:\n",
    "    json.dump(data_out, fp)"
   ]
  },
  {
   "cell_type": "code",
   "execution_count": null,
   "metadata": {
    "collapsed": true
   },
   "outputs": [],
   "source": []
  }
 ],
 "metadata": {
  "kernelspec": {
   "display_name": "global3",
   "language": "python",
   "name": "global3"
  },
  "language_info": {
   "codemirror_mode": {
    "name": "ipython",
    "version": 3
   },
   "file_extension": ".py",
   "mimetype": "text/x-python",
   "name": "python",
   "nbconvert_exporter": "python",
   "pygments_lexer": "ipython3",
   "version": "3.7.0"
  }
 },
 "nbformat": 4,
 "nbformat_minor": 2
}
